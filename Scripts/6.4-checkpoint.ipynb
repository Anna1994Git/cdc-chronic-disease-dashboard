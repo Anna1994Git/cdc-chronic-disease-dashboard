{
 "cells": [
  {
   "cell_type": "code",
   "execution_count": 1,
   "id": "fb5593e1-d58c-4cc7-9e02-ba354d38ca58",
   "metadata": {},
   "outputs": [],
   "source": [
    "#Import libraries"
   ]
  },
  {
   "cell_type": "code",
   "execution_count": 3,
   "id": "6f8b4970-7726-45d0-8e66-5a3eb68f536c",
   "metadata": {},
   "outputs": [],
   "source": [
    "import pandas as pd\n",
    "import numpy as np\n",
    "import matplotlib.pyplot as plt\n",
    "from sklearn.linear_model import LinearRegression\n",
    "from sklearn.model_selection import train_test_split\n",
    "from sklearn.metrics import mean_squared_error, r2_score"
   ]
  },
  {
   "cell_type": "code",
   "execution_count": 5,
   "id": "8084bfd6-7899-4934-a475-7474e7c5fc77",
   "metadata": {},
   "outputs": [
    {
     "data": {
      "text/html": [
       "<div>\n",
       "<style scoped>\n",
       "    .dataframe tbody tr th:only-of-type {\n",
       "        vertical-align: middle;\n",
       "    }\n",
       "\n",
       "    .dataframe tbody tr th {\n",
       "        vertical-align: top;\n",
       "    }\n",
       "\n",
       "    .dataframe thead th {\n",
       "        text-align: right;\n",
       "    }\n",
       "</style>\n",
       "<table border=\"1\" class=\"dataframe\">\n",
       "  <thead>\n",
       "    <tr style=\"text-align: right;\">\n",
       "      <th></th>\n",
       "      <th>YearStart</th>\n",
       "      <th>YearEnd</th>\n",
       "      <th>LocationAbbr</th>\n",
       "      <th>LocationDesc</th>\n",
       "      <th>DataSource</th>\n",
       "      <th>Topic</th>\n",
       "      <th>Question</th>\n",
       "      <th>DataValueUnit</th>\n",
       "      <th>DataValueType</th>\n",
       "      <th>DataValue</th>\n",
       "      <th>StratificationCategory1</th>\n",
       "      <th>Stratification1</th>\n",
       "      <th>Geolocation</th>\n",
       "      <th>LocationID</th>\n",
       "      <th>TopicID</th>\n",
       "      <th>QuestionID</th>\n",
       "      <th>DataValueTypeID</th>\n",
       "      <th>StratificationCategoryID1</th>\n",
       "      <th>StratificationID1</th>\n",
       "    </tr>\n",
       "  </thead>\n",
       "  <tbody>\n",
       "    <tr>\n",
       "      <th>0</th>\n",
       "      <td>2019</td>\n",
       "      <td>2019</td>\n",
       "      <td>AR</td>\n",
       "      <td>Arkansas</td>\n",
       "      <td>BRFSS</td>\n",
       "      <td>Diabetes</td>\n",
       "      <td>Diabetes among adults</td>\n",
       "      <td>%</td>\n",
       "      <td>Crude Prevalence</td>\n",
       "      <td>13.6</td>\n",
       "      <td>Sex</td>\n",
       "      <td>Male</td>\n",
       "      <td>POINT (-92.27449074299966 34.74865012400045)</td>\n",
       "      <td>5</td>\n",
       "      <td>DIA</td>\n",
       "      <td>DIA01</td>\n",
       "      <td>CRDPREV</td>\n",
       "      <td>SEX</td>\n",
       "      <td>SEXM</td>\n",
       "    </tr>\n",
       "    <tr>\n",
       "      <th>1</th>\n",
       "      <td>2019</td>\n",
       "      <td>2019</td>\n",
       "      <td>ID</td>\n",
       "      <td>Idaho</td>\n",
       "      <td>BRFSS</td>\n",
       "      <td>Diabetes</td>\n",
       "      <td>Diabetes among adults</td>\n",
       "      <td>%</td>\n",
       "      <td>Crude Prevalence</td>\n",
       "      <td>10.6</td>\n",
       "      <td>Sex</td>\n",
       "      <td>Male</td>\n",
       "      <td>POINT (-114.3637300419997 43.682630005000476)</td>\n",
       "      <td>16</td>\n",
       "      <td>DIA</td>\n",
       "      <td>DIA01</td>\n",
       "      <td>CRDPREV</td>\n",
       "      <td>SEX</td>\n",
       "      <td>SEXM</td>\n",
       "    </tr>\n",
       "    <tr>\n",
       "      <th>2</th>\n",
       "      <td>2019</td>\n",
       "      <td>2019</td>\n",
       "      <td>IA</td>\n",
       "      <td>Iowa</td>\n",
       "      <td>NVSS</td>\n",
       "      <td>Asthma</td>\n",
       "      <td>Asthma mortality among all people, underlying ...</td>\n",
       "      <td>Number</td>\n",
       "      <td>Number</td>\n",
       "      <td>54.0</td>\n",
       "      <td>Overall</td>\n",
       "      <td>Overall</td>\n",
       "      <td>POINT (-93.81649055599968 42.46940091300047)</td>\n",
       "      <td>19</td>\n",
       "      <td>AST</td>\n",
       "      <td>AST01</td>\n",
       "      <td>NMBR</td>\n",
       "      <td>OVERALL</td>\n",
       "      <td>OVR</td>\n",
       "    </tr>\n",
       "    <tr>\n",
       "      <th>3</th>\n",
       "      <td>2019</td>\n",
       "      <td>2019</td>\n",
       "      <td>IA</td>\n",
       "      <td>Iowa</td>\n",
       "      <td>BRFSS</td>\n",
       "      <td>Asthma</td>\n",
       "      <td>Current asthma among adults</td>\n",
       "      <td>%</td>\n",
       "      <td>Crude Prevalence</td>\n",
       "      <td>10.3</td>\n",
       "      <td>Age</td>\n",
       "      <td>Age 18-44</td>\n",
       "      <td>POINT (-93.81649055599968 42.46940091300047)</td>\n",
       "      <td>19</td>\n",
       "      <td>AST</td>\n",
       "      <td>AST02</td>\n",
       "      <td>CRDPREV</td>\n",
       "      <td>AGE</td>\n",
       "      <td>AGE1844</td>\n",
       "    </tr>\n",
       "    <tr>\n",
       "      <th>4</th>\n",
       "      <td>2019</td>\n",
       "      <td>2019</td>\n",
       "      <td>IA</td>\n",
       "      <td>Iowa</td>\n",
       "      <td>NVSS</td>\n",
       "      <td>Diabetes</td>\n",
       "      <td>Diabetes mortality among all people, underlyin...</td>\n",
       "      <td>Number</td>\n",
       "      <td>Number</td>\n",
       "      <td>54.0</td>\n",
       "      <td>Age</td>\n",
       "      <td>Age 0-44</td>\n",
       "      <td>POINT (-93.81649055599968 42.46940091300047)</td>\n",
       "      <td>19</td>\n",
       "      <td>DIA</td>\n",
       "      <td>DIA03</td>\n",
       "      <td>NMBR</td>\n",
       "      <td>AGE</td>\n",
       "      <td>AGE0_44</td>\n",
       "    </tr>\n",
       "  </tbody>\n",
       "</table>\n",
       "</div>"
      ],
      "text/plain": [
       "   YearStart  YearEnd LocationAbbr LocationDesc DataSource     Topic  \\\n",
       "0       2019     2019           AR     Arkansas      BRFSS  Diabetes   \n",
       "1       2019     2019           ID        Idaho      BRFSS  Diabetes   \n",
       "2       2019     2019           IA         Iowa       NVSS    Asthma   \n",
       "3       2019     2019           IA         Iowa      BRFSS    Asthma   \n",
       "4       2019     2019           IA         Iowa       NVSS  Diabetes   \n",
       "\n",
       "                                            Question DataValueUnit  \\\n",
       "0                              Diabetes among adults             %   \n",
       "1                              Diabetes among adults             %   \n",
       "2  Asthma mortality among all people, underlying ...        Number   \n",
       "3                        Current asthma among adults             %   \n",
       "4  Diabetes mortality among all people, underlyin...        Number   \n",
       "\n",
       "      DataValueType  DataValue StratificationCategory1 Stratification1  \\\n",
       "0  Crude Prevalence       13.6                     Sex            Male   \n",
       "1  Crude Prevalence       10.6                     Sex            Male   \n",
       "2            Number       54.0                 Overall         Overall   \n",
       "3  Crude Prevalence       10.3                     Age       Age 18-44   \n",
       "4            Number       54.0                     Age        Age 0-44   \n",
       "\n",
       "                                     Geolocation  LocationID TopicID  \\\n",
       "0   POINT (-92.27449074299966 34.74865012400045)           5     DIA   \n",
       "1  POINT (-114.3637300419997 43.682630005000476)          16     DIA   \n",
       "2   POINT (-93.81649055599968 42.46940091300047)          19     AST   \n",
       "3   POINT (-93.81649055599968 42.46940091300047)          19     AST   \n",
       "4   POINT (-93.81649055599968 42.46940091300047)          19     DIA   \n",
       "\n",
       "  QuestionID DataValueTypeID StratificationCategoryID1 StratificationID1  \n",
       "0      DIA01         CRDPREV                       SEX              SEXM  \n",
       "1      DIA01         CRDPREV                       SEX              SEXM  \n",
       "2      AST01            NMBR                   OVERALL               OVR  \n",
       "3      AST02         CRDPREV                       AGE           AGE1844  \n",
       "4      DIA03            NMBR                       AGE           AGE0_44  "
      ]
     },
     "execution_count": 5,
     "metadata": {},
     "output_type": "execute_result"
    }
   ],
   "source": [
    "# Load cleaned CDC data\n",
    "file_path = r\"C:\\Users\\annma\\OneDrive\\CareerFoundary\\Achivement 6.4\\CDC_Chronic_Indicators_Cleaned_Final.csv\"\n",
    "df = pd.read_csv(file_path)\n",
    "\n",
    "# Quick look at the data\n",
    "df.head()\n"
   ]
  },
  {
   "cell_type": "code",
   "execution_count": 7,
   "id": "bdd5a120-afa9-4784-8468-7c161a920c56",
   "metadata": {},
   "outputs": [
    {
     "name": "stdout",
     "output_type": "stream",
     "text": [
      "Index(['YearStart', 'YearEnd', 'LocationAbbr', 'LocationDesc', 'DataSource',\n",
      "       'Topic', 'Question', 'DataValueUnit', 'DataValueType', 'DataValue',\n",
      "       'StratificationCategory1', 'Stratification1', 'Geolocation',\n",
      "       'LocationID', 'TopicID', 'QuestionID', 'DataValueTypeID',\n",
      "       'StratificationCategoryID1', 'StratificationID1'],\n",
      "      dtype='object')\n"
     ]
    }
   ],
   "source": [
    "# Display column names to confirm\n",
    "print(df.columns)\n"
   ]
  },
  {
   "cell_type": "code",
   "execution_count": 9,
   "id": "e73ff3fb-a4c2-4259-bd79-02c49fde51b1",
   "metadata": {},
   "outputs": [
    {
     "name": "stdout",
     "output_type": "stream",
     "text": [
      "['Diabetes' 'Asthma' 'Health Status' 'Mental Health' 'Alcohol' 'Arthritis'\n",
      " 'Tobacco' 'Disability' 'Sleep' 'Immunization' 'Oral Health'\n",
      " 'Nutrition, Physical Activity, and Weight Status' 'Cancer'\n",
      " 'Cardiovascular Disease' 'Chronic Obstructive Pulmonary Disease'\n",
      " 'Cognitive Health and Caregiving' 'Social Determinants of Health'\n",
      " 'Chronic Kidney Disease' 'Maternal Health']\n"
     ]
    }
   ],
   "source": [
    "# Check unique topics\n",
    "print(df['Topic'].unique())"
   ]
  },
  {
   "cell_type": "code",
   "execution_count": 13,
   "id": "4a67e92c-695f-482f-9c41-82f014ba8d0e",
   "metadata": {},
   "outputs": [
    {
     "name": "stdout",
     "output_type": "stream",
     "text": [
      "['Diabetes among adults'\n",
      " 'Diabetes mortality among all people, underlying or contributing cause'\n",
      " 'Gestational diabetes among women with a recent live birth'\n",
      " 'Diabetic ketoacidosis mortality among all people, underlying or contributing cause']\n",
      "['Obesity among adults' 'No leisure-time physical activity among adults'\n",
      " 'Children and adolescents aged 6-13 years meeting aerobic physical activity guideline'\n",
      " 'Consumed vegetables less than one time daily among high school students'\n",
      " 'Met aerobic physical activity guideline for substantial health benefits, adults'\n",
      " 'Consumed vegetables less than one time daily among adults'\n",
      " 'Obesity among high school students'\n",
      " 'Consumed regular soda at least one time daily among high school students'\n",
      " 'Consumed fruit less than one time daily among adults'\n",
      " 'Consumed fruit less than one time daily among high school students'\n",
      " 'Met aerobic physical activity guideline among high school students'\n",
      " 'Infants who were breastfed at 12 months'\n",
      " 'Infants who were exclusively breastfed through 6 months'\n",
      " 'Obesity among WIC children aged 2 to 4 years']\n"
     ]
    }
   ],
   "source": [
    "# Show all diabetes-related questions\n",
    "print(df[df['Topic'] == 'Diabetes']['Question'].unique())\n",
    "\n",
    "# Show all obesity-related questions\n",
    "print(df[df['Topic'] == 'Nutrition, Physical Activity, and Weight Status']['Question'].unique())\n"
   ]
  },
  {
   "cell_type": "code",
   "execution_count": 15,
   "id": "67b525a7-932b-43df-bb9c-d319176e7c0a",
   "metadata": {},
   "outputs": [],
   "source": [
    "target_questions = [\n",
    "    'Diabetes among adults',\n",
    "    'Obesity among adults'\n",
    "]\n"
   ]
  },
  {
   "cell_type": "code",
   "execution_count": 17,
   "id": "6921d472-f021-4304-b312-85f737fd9777",
   "metadata": {},
   "outputs": [
    {
     "name": "stdout",
     "output_type": "stream",
     "text": [
      "  LocationAbbr LocationDesc  Diabetes  Obesity\n",
      "0           AK       Alaska      8.60    32.20\n",
      "1           AL      Alabama     14.55    38.35\n",
      "2           AR     Arkansas     14.90    37.65\n",
      "3           AZ      Arizona     12.05    33.35\n",
      "4           CA   California     11.10    28.20\n",
      "Shape: (55, 4)\n"
     ]
    }
   ],
   "source": [
    "# Step 0: Import necessary libraries\n",
    "import pandas as pd\n",
    "\n",
    "# Step 1: Load your cleaned dataset\n",
    "file_path = r\"C:\\Users\\annma\\OneDrive\\CareerFoundary\\Achivement 6.4\\CDC_Chronic_Indicators_Cleaned_Final.csv\"\n",
    "df = pd.read_csv(file_path)\n",
    "\n",
    "# Step 2: Use the exact question texts\n",
    "target_questions = [\n",
    "    'Diabetes among adults',\n",
    "    'Obesity among adults'\n",
    "]\n",
    "\n",
    "# Step 3: Filter for just those questions\n",
    "df_filtered = df[df['Question'].isin(target_questions)]\n",
    "\n",
    "# Step 4: Keep only overall values\n",
    "df_filtered = df_filtered[df_filtered['StratificationCategory1'] == 'Overall']\n",
    "\n",
    "# Step 5: Filter to latest year\n",
    "latest_year = df_filtered['YearEnd'].max()\n",
    "df_filtered = df_filtered[df_filtered['YearEnd'] == latest_year]\n",
    "\n",
    "# Step 6: Pivot to wide format\n",
    "df_wide = df_filtered.pivot_table(\n",
    "    index=['LocationAbbr', 'LocationDesc'],\n",
    "    columns='Question',\n",
    "    values='DataValue'\n",
    ").reset_index()\n",
    "\n",
    "# Step 7: Rename columns for convenience\n",
    "df_wide.columns.name = None\n",
    "df_wide.rename(columns={\n",
    "    'Diabetes among adults': 'Diabetes',\n",
    "    'Obesity among adults': 'Obesity'\n",
    "}, inplace=True)\n",
    "\n",
    "# Step 8: Drop rows with missing values\n",
    "df_wide.dropna(subset=['Obesity', 'Diabetes'], inplace=True)\n",
    "\n",
    "# Step 9: Preview the result\n",
    "print(df_wide.head())\n",
    "print(\"Shape:\", df_wide.shape)\n"
   ]
  },
  {
   "cell_type": "code",
   "execution_count": 19,
   "id": "51cfe062-2c47-4a7b-91e0-b10fd18185e2",
   "metadata": {},
   "outputs": [
    {
     "name": "stdout",
     "output_type": "stream",
     "text": [
      "Cleaned data saved to: C:\\Users\\annma\\OneDrive\\CareerFoundary\\Achivement 6.4\\CDC_Obesity_Diabetes_Cleaned.csv\n"
     ]
    }
   ],
   "source": [
    "# Save cleaned and prepared data\n",
    "output_path = r\"C:\\Users\\annma\\OneDrive\\CareerFoundary\\Achivement 6.4\\CDC_Obesity_Diabetes_Cleaned.csv\"\n",
    "df_wide.to_csv(output_path, index=False)\n",
    "\n",
    "print(\"Cleaned data saved to:\", output_path)\n"
   ]
  },
  {
   "cell_type": "code",
   "execution_count": 21,
   "id": "94ad4c44-ad1c-476d-be8c-676a24f3dd1f",
   "metadata": {},
   "outputs": [
    {
     "data": {
      "image/png": "[encoded data removed]",
      "text/plain": [
       "<Figure size 800x500 with 1 Axes>"
      ]
     },
     "metadata": {},
     "output_type": "display_data"
    },
    {
     "name": "stdout",
     "output_type": "stream",
     "text": [
      "Scatterplot saved to: C:\\Users\\annma\\OneDrive\\CareerFoundary\\Achivement 6.4\\scatterplot_obesity_vs_diabetes.png\n"
     ]
    }
   ],
   "source": [
    "import matplotlib.pyplot as plt\n",
    "\n",
    "# Create and save scatterplot\n",
    "plt.figure(figsize=(8, 5))\n",
    "plt.scatter(df_wide['Obesity'], df_wide['Diabetes'], alpha=0.7, color='darkcyan', edgecolor='black')\n",
    "\n",
    "plt.title('Scatterplot: Obesity vs. Diabetes Prevalence by State')\n",
    "plt.xlabel('Obesity Rate (%)')\n",
    "plt.ylabel('Diabetes Rate (%)')\n",
    "plt.grid(True)\n",
    "\n",
    "# Save to PNG\n",
    "output_plot_path = r\"C:\\Users\\annma\\OneDrive\\CareerFoundary\\Achivement 6.4\\scatterplot_obesity_vs_diabetes.png\"\n",
    "plt.savefig(output_plot_path, dpi=300, bbox_inches='tight')\n",
    "\n",
    "# Show plot\n",
    "plt.show()\n",
    "\n",
    "print(\"Scatterplot saved to:\", output_plot_path)\n"
   ]
  },
  {
   "cell_type": "markdown",
   "id": "8e4c5da8-4300-4b8e-ac61-887a27ff3b05",
   "metadata": {},
   "source": [
    "### Hypothesis\n",
    "\n",
    "There is a positive linear relationship between adult obesity rates and diabetes prevalence across U.S. states.\n",
    "\n",
    "**Null Hypothesis (H₀):**  \n",
    "There is no relationship between obesity rates and diabetes prevalence.\n",
    "\n",
    "**Alternative Hypothesis (H₁):**  \n",
    "As obesity rates increase, diabetes prevalence also increases.\n"
   ]
  },
  {
   "cell_type": "code",
   "execution_count": 26,
   "id": "72d3316d-c607-4e91-8038-2fe31ef4a52f",
   "metadata": {},
   "outputs": [
    {
     "name": "stdout",
     "output_type": "stream",
     "text": [
      "X shape: (55, 1)\n",
      "y shape: (55, 1)\n"
     ]
    }
   ],
   "source": [
    "import numpy as np\n",
    "#Task 6: Reshape variables for regression.Since you're using:\n",
    "#Obesity as the independent variable (X)\n",
    "#Diabetes as the dependent variable (y)\n",
    "# Reshape X (independent variable - Obesity)\n",
    "X = df_wide['Obesity'].values.reshape(-1, 1)\n",
    "\n",
    "# Reshape y (dependent variable - Diabetes)\n",
    "y = df_wide['Diabetes'].values.reshape(-1, 1)\n",
    "\n",
    "# Optional: check shape\n",
    "print(\"X shape:\", X.shape)\n",
    "print(\"y shape:\", y.shape)\n"
   ]
  },
  {
   "cell_type": "code",
   "execution_count": 28,
   "id": "7ab131e4-8e4e-4182-b3a8-0217fcc2cb57",
   "metadata": {},
   "outputs": [
    {
     "name": "stdout",
     "output_type": "stream",
     "text": [
      "X_train shape: (38, 1)\n",
      "X_test shape: (17, 1)\n",
      "y_train shape: (38, 1)\n",
      "y_test shape: (17, 1)\n"
     ]
    }
   ],
   "source": [
    "from sklearn.model_selection import train_test_split\n",
    "\n",
    "# Split data: 70% for training, 30% for testing\n",
    "X_train, X_test, y_train, y_test = train_test_split(\n",
    "    X, y,\n",
    "    test_size=0.3,\n",
    "    random_state=42  # for reproducibility\n",
    ")\n",
    "\n",
    "# Optional: check shapes\n",
    "print(\"X_train shape:\", X_train.shape)\n",
    "print(\"X_test shape:\", X_test.shape)\n",
    "print(\"y_train shape:\", y_train.shape)\n",
    "print(\"y_test shape:\", y_test.shape)\n"
   ]
  },
  {
   "cell_type": "code",
   "execution_count": 30,
   "id": "5986575e-2d55-4f9c-ae69-033ed38e93a8",
   "metadata": {},
   "outputs": [],
   "source": [
    "from sklearn.linear_model import LinearRegression\n",
    "\n",
    "# Step 1: Create the model object\n",
    "model = LinearRegression()\n",
    "\n",
    "# Step 2: Fit the model to the training data\n",
    "model.fit(X_train, y_train)\n",
    "\n",
    "# Step 3: Predict y values using the test set\n",
    "y_pred = model.predict(X_test)\n"
   ]
  },
  {
   "cell_type": "code",
   "execution_count": 32,
   "id": "dc16c2f6-831c-465e-8565-1c60cc6e004b",
   "metadata": {},
   "outputs": [
    {
     "name": "stdout",
     "output_type": "stream",
     "text": [
      "Predicted diabetes values (first 5): [ 9.95714324  7.97846866  9.54976907 12.8669588  13.87569487]\n",
      "Actual diabetes values (first 5): [ 8.95  7.85 10.15 10.95 14.  ]\n"
     ]
    }
   ],
   "source": [
    "print(\"Predicted diabetes values (first 5):\", y_pred[:5].flatten())\n",
    "print(\"Actual diabetes values (first 5):\", y_test[:5].flatten())\n"
   ]
  },
  {
   "cell_type": "code",
   "execution_count": 34,
   "id": "d01bc1ea-ef5a-43a3-bdf6-2b7874b335ca",
   "metadata": {},
   "outputs": [
    {
     "data": {
      "image/png": "[encoded data removed]",
      "text/plain": [
       "<Figure size 800x500 with 1 Axes>"
      ]
     },
     "metadata": {},
     "output_type": "display_data"
    },
    {
     "name": "stdout",
     "output_type": "stream",
     "text": [
      "Regression plot saved to: C:\\Users\\annma\\OneDrive\\CareerFoundary\\Achivement 6.4\\regression_line_obesity_diabetes.png\n"
     ]
    }
   ],
   "source": [
    "import matplotlib.pyplot as plt\n",
    "\n",
    "# Create the plot\n",
    "plt.figure(figsize=(8, 5))\n",
    "\n",
    "# Plot actual data (blue dots)\n",
    "plt.scatter(X_test, y_test, color='blue', alpha=0.7, label='Actual')\n",
    "\n",
    "# Plot predicted regression line (red line)\n",
    "plt.plot(X_test, y_pred, color='red', linewidth=2, label='Regression Line')\n",
    "\n",
    "# Add labels and title\n",
    "plt.title('Linear Regression: Obesity vs. Diabetes (Test Set)')\n",
    "plt.xlabel('Obesity Rate (%)')\n",
    "plt.ylabel('Diabetes Rate (%)')\n",
    "plt.legend()\n",
    "plt.grid(True)\n",
    "\n",
    "# Save the plot\n",
    "output_path = r\"C:\\Users\\annma\\OneDrive\\CareerFoundary\\Achivement 6.4\\regression_line_obesity_diabetes.png\"\n",
    "plt.savefig(output_path, dpi=300, bbox_inches='tight')\n",
    "\n",
    "# Show the plot\n",
    "plt.show()\n",
    "\n",
    "print(\"Regression plot saved to:\", output_path)\n"
   ]
  },
  {
   "cell_type": "markdown",
   "id": "3086badc-e744-46e1-944d-2954de271831",
   "metadata": {},
   "source": [
    "### Visual Interpretation of the Regression Line\n",
    "\n",
    "The regression line in the scatterplot shows a generally positive trend, indicating that as obesity rates increase, diabetes rates tend to increase as well.\n",
    "\n",
    "However, the data points are somewhat scattered around the regression line, suggesting that while there is a linear relationship, it is not very strong. Some states with similar obesity rates show different diabetes rates, and vice versa.\n",
    "\n",
    "This means that although obesity is likely a contributing factor to diabetes prevalence, other variables not included in this model may also play an important role in predicting diabetes rates.\n",
    "\n",
    "Overall, the model captures a general upward trend but does not tightly fit all data points.\n"
   ]
  },
  {
   "cell_type": "code",
   "execution_count": 37,
   "id": "2a4c6429-7926-4f64-b5a2-be99be4a4dc9",
   "metadata": {},
   "outputs": [
    {
     "name": "stdout",
     "output_type": "stream",
     "text": [
      "Mean Squared Error (MSE): 3.73\n",
      "R-squared Score (R²): 0.0054\n"
     ]
    }
   ],
   "source": [
    "from sklearn.metrics import mean_squared_error, r2_score\n",
    "\n",
    "# Calculate Mean Squared Error (MSE)\n",
    "mse = mean_squared_error(y_test, y_pred)\n",
    "\n",
    "# Calculate R-squared (R²) Score\n",
    "r2 = r2_score(y_test, y_pred)\n",
    "\n",
    "# Print results\n",
    "print(\"Mean Squared Error (MSE):\", round(mse, 2))\n",
    "print(\"R-squared Score (R²):\", round(r2, 4))\n"
   ]
  },
  {
   "cell_type": "code",
   "execution_count": 39,
   "id": "44224b9d-c503-4663-b369-747e6f9d7fe6",
   "metadata": {},
   "outputs": [
    {
     "name": "stdout",
     "output_type": "stream",
     "text": [
      "   Actual Diabetes (%)  Predicted Diabetes (%)\n",
      "0                 8.95                9.957143\n",
      "1                 7.85                7.978469\n",
      "2                10.15                9.549769\n",
      "3                10.95               12.866959\n",
      "4                14.00               13.875695\n",
      "5                14.20               10.209327\n",
      "6                10.85               10.248125\n",
      "7                14.60               13.720505\n",
      "8                 8.60               12.634174\n",
      "9                11.05                8.541033\n"
     ]
    }
   ],
   "source": [
    "import pandas as pd\n",
    "\n",
    "# Create comparison dataframe\n",
    "comparison_df = pd.DataFrame({\n",
    "    'Actual Diabetes (%)': y_test.flatten(),\n",
    "    'Predicted Diabetes (%)': y_pred.flatten()\n",
    "})\n",
    "\n",
    "# Display the first 10 comparisons\n",
    "print(comparison_df.head(10))\n"
   ]
  },
  {
   "cell_type": "markdown",
   "id": "a88ad357-dafd-4d7a-9ce4-ab2d3832729c",
   "metadata": {},
   "source": [
    "### Model Performance and Reflections on Data Bias\n",
    "\n",
    "#### Model Performance:\n",
    "The linear regression model shows a general positive trend between obesity and diabetes rates across U.S. states. However, based on the R² score and the comparison of actual vs. predicted values, the model only moderately explains the variation in diabetes rates. There is a noticeable spread in the data, meaning other factors beyond obesity likely influence diabetes prevalence.\n",
    "\n",
    "Some predictions were close to the actual values, while others were significantly off, indicating that the model captures the overall pattern but lacks precision for individual states.\n",
    "\n",
    "#### Reflections on Data Bias:\n",
    "It’s important to consider potential bias in the dataset. The CDC indicators are self-reported and subject to underreporting or inconsistencies between states. Additionally, demographic, socioeconomic, and healthcare access differences across states may impact obesity and diabetes rates in ways not captured by a single-variable model.\n",
    "\n",
    "By only using obesity as the predictor, the model may oversimplify a complex public health issue. Including more predictors (like physical activity, income, education, or access to healthcare) in a multiple regression would likely improve accuracy and fairness.\n",
    "\n",
    "Bias in model training data can lead to misleading insights, especially if used to inform health policy. It's crucial to assess the data source, representation, and limitations before drawing strong conclusions.\n"
   ]
  },
  {
   "cell_type": "markdown",
   "id": "2aadb52c-f6e1-4db3-8329-e0690bcb4641",
   "metadata": {},
   "source": [
    "### Conclusion\n",
    "\n",
    "In this analysis, a simple linear regression model was used to explore the relationship between adult obesity rates and diabetes prevalence across U.S. states using CDC health indicators data. The visual and statistical results supported the hypothesis of a positive correlation — states with higher obesity rates generally reported higher rates of diabetes.\n",
    "\n",
    "However, the model’s performance indicates that obesity alone does not fully explain diabetes prevalence. The moderate R² value and noticeable prediction errors suggest that other contributing factors should be considered in a more comprehensive model.\n",
    "\n",
    "While this regression provided valuable insights into a possible link between obesity and diabetes, future analyses should incorporate additional predictors (e.g., physical activity, socioeconomic factors, healthcare access) using multiple regression. Additionally, attention should be given to data quality, reporting consistency, and potential bias.\n",
    "\n",
    "Overall, this exercise demonstrates the usefulness of regression modeling in public health analysis while highlighting the importance of careful data selection and interpretation.\n"
   ]
  },
  {
   "cell_type": "code",
   "execution_count": null,
   "id": "60042903-84c7-4148-a9db-0250e36c4c7e",
   "metadata": {},
   "outputs": [],
   "source": []
  }
 ],
 "metadata": {
  "kernelspec": {
   "display_name": "Python [conda env:base] *",
   "language": "python",
   "name": "conda-base-py"
  },
  "language_info": {
   "codemirror_mode": {
    "name": "ipython",
    "version": 3
   },
   "file_extension": ".py",
   "mimetype": "text/x-python",
   "name": "python",
   "nbconvert_exporter": "python",
   "pygments_lexer": "ipython3",
   "version": "3.12.3"
  }
 },
 "nbformat": 4,
 "nbformat_minor": 5
}
